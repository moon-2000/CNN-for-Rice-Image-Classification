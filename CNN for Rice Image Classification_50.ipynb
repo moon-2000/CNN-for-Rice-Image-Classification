{
 "cells": [
  {
   "cell_type": "code",
   "execution_count": 1,
   "id": "4de4535d",
   "metadata": {},
   "outputs": [],
   "source": [
    "import matplotlib.pyplot as plt\n",
    "import seaborn as sns\n",
    "\n",
    "import pandas as pd\n",
    "import numpy as np\n",
    "import random\n",
    "\n",
    "import splitfolders\n",
    "import pathlib\n",
    "import cv2\n",
    "import os\n",
    "import PIL\n",
    "\n",
    "from tensorflow import keras\n",
    "from keras.preprocessing.image import ImageDataGenerator\n",
    "from keras.models import Sequential\n",
    "from keras.layers import Activation, Dropout, Flatten, Conv2D, MaxPooling2D, Dense, BatchNormalization\n",
    "from keras.callbacks import ModelCheckpoint, EarlyStopping, ReduceLROnPlateau\n",
    "from sklearn.metrics import classification_report, confusion_matrix"
   ]
  },
  {
   "cell_type": "code",
   "execution_count": 3,
   "id": "e4d13dd6",
   "metadata": {},
   "outputs": [],
   "source": [
    "ds_path = 'C:/Users/aa10098/Downloads/Rice/Rice_Image_Dataset_50'\n",
    "ds_path = pathlib.Path(ds_path)"
   ]
  },
  {
   "cell_type": "code",
   "execution_count": 4,
   "id": "04c859e1",
   "metadata": {},
   "outputs": [
    {
     "name": "stderr",
     "output_type": "stream",
     "text": [
      "Copying files: 250 files [00:02, 110.95 files/s]\n"
     ]
    }
   ],
   "source": [
    "splitfolders.ratio(ds_path, output='imgs_50', seed=123, ratio=(.7,.15,.15), group_prefix=None)"
   ]
  },
  {
   "cell_type": "code",
   "execution_count": 6,
   "id": "a758afa4",
   "metadata": {},
   "outputs": [],
   "source": [
    "arborio = [fn for fn in os.listdir(f'{ds_path}/Arborio') if fn.endswith('.jpg')]\n",
    "bastmati = [fn for fn in os.listdir(f'{ds_path}/Basmati') if fn.endswith('.jpg')]\n",
    "ipsala = [fn for fn in os.listdir(f'{ds_path}/Ipsala') if fn.endswith('.jpg')]\n",
    "jasmine = [fn for fn in os.listdir(f'{ds_path}/Jasmine') if fn.endswith('.jpg')]\n",
    "karacadag = [fn for fn in os.listdir(f'{ds_path}/Karacadag') if fn.endswith('.jpg')]\n",
    "rice = [arborio, bastmati, ipsala, jasmine, karacadag]\n",
    "rice_classes = []\n",
    "for i in os.listdir('imgs_50/train'):\n",
    "    rice_classes+=[i]\n",
    "rice_classes.sort()"
   ]
  },
  {
   "cell_type": "code",
   "execution_count": 7,
   "id": "4e7cdc27",
   "metadata": {},
   "outputs": [
    {
     "name": "stdout",
     "output_type": "stream",
     "text": [
      "Total images: 250\n",
      "Total number of classes: 5\n",
      "Total Arborio images: 50\n",
      "Total Basmati images: 50\n",
      "Total Ipsala images: 50\n",
      "Total Jasmine images: 50\n",
      "Total Karacadag images: 50\n"
     ]
    },
    {
     "data": {
      "image/png": "[encoded data removed]",
      "text/plain": [
       "<Figure size 432x288 with 1 Axes>"
      ]
     },
     "metadata": {},
     "output_type": "display_data"
    }
   ],
   "source": [
    "image_count = len(list(ds_path.glob('*/*.jpg')))\n",
    "print(f'Total images: {image_count}')\n",
    "print(f'Total number of classes: {len(rice_classes)}')\n",
    "count = 0\n",
    "rice_count = []\n",
    "for x in rice_classes:\n",
    "  print(f'Total {x} images: {len(rice[count])}')\n",
    "  rice_count.append(len(rice[count]))\n",
    "  count += 1\n",
    "\n",
    "sns.set_style('darkgrid')\n",
    "sns.barplot(x=rice_classes, y=rice_count, palette=\"Set2\")\n",
    "plt.show()"
   ]
  },
  {
   "cell_type": "code",
   "execution_count": 8,
   "id": "e4a5634f",
   "metadata": {},
   "outputs": [
    {
     "name": "stdout",
     "output_type": "stream",
     "text": [
      "Rice Image Dimensions are: (250, 250, 3)\n"
     ]
    },
    {
     "data": {
      "image/png": "[encoded data removed]",
      "text/plain": [
       "<Figure size 432x288 with 1 Axes>"
      ]
     },
     "metadata": {},
     "output_type": "display_data"
    }
   ],
   "source": [
    "rice_img = cv2.imread('C:/Users/aa10098/Downloads/Rice/Rice_Image_Dataset_100/Basmati/basmati (14).jpg')\n",
    "rice_img = cv2.cvtColor(rice_img, cv2.COLOR_BGR2RGB)\n",
    "plt.imshow(rice_img)\n",
    "print(f\"Rice Image Dimensions are: {rice_img.shape}\")"
   ]
  },
  {
   "cell_type": "code",
   "execution_count": 9,
   "id": "479a9d2e",
   "metadata": {},
   "outputs": [],
   "source": [
    "batch_size = 128\n",
    "img_height, img_width = 175, 175\n",
    "input_shape = (img_height, img_width, 3)"
   ]
  },
  {
   "cell_type": "code",
   "execution_count": 10,
   "id": "e4fe951f",
   "metadata": {},
   "outputs": [],
   "source": [
    "img_generator = ImageDataGenerator(rescale=1./255, \n",
    "                                   rotation_range = 30,\n",
    "                                   width_shift_range = 0.1,\n",
    "                                   height_shift_range = 0.1,\n",
    "                                   shear_range = 0.2, \n",
    "                                   zoom_range = 0.2, \n",
    "                                   horizontal_flip = True, \n",
    "                                   fill_mode = 'nearest')"
   ]
  },
  {
   "cell_type": "code",
   "execution_count": 11,
   "id": "859905b1",
   "metadata": {},
   "outputs": [
    {
     "name": "stdout",
     "output_type": "stream",
     "text": [
      "Found 175 images belonging to 5 classes.\n",
      "Found 35 images belonging to 5 classes.\n",
      "Found 40 images belonging to 5 classes.\n"
     ]
    }
   ],
   "source": [
    "ds_train = img_generator.flow_from_directory('imgs_50/train',\n",
    "                                             target_size = (img_height, img_width),\n",
    "                                             batch_size = batch_size,\n",
    "                                             subset = \"training\",\n",
    "                                             class_mode='categorical')\n",
    "ds_validate = img_generator.flow_from_directory('imgs_50/val',\n",
    "                                          target_size = (img_height, img_width),\n",
    "                                          batch_size = batch_size,\n",
    "                                          class_mode='categorical',\n",
    "                                          shuffle=False)\n",
    "ds_test = img_generator.flow_from_directory('imgs_50/test',\n",
    "                                      target_size = (img_height, img_width),\n",
    "                                      batch_size = batch_size,\n",
    "                                      class_mode='categorical',\n",
    "                                      shuffle=False)"
   ]
  },
  {
   "cell_type": "code",
   "execution_count": 12,
   "id": "79dd9d57",
   "metadata": {},
   "outputs": [],
   "source": [
    "model = Sequential()\n",
    "\n",
    "model.add(Conv2D(filters = 32, kernel_size = (3, 3), input_shape = input_shape, activation = 'relu'))\n",
    "model.add(BatchNormalization())\n",
    "model.add(Conv2D(filters = 32, kernel_size = (3, 3), activation = 'relu', padding = 'same'))\n",
    "model.add(BatchNormalization(axis = 3))\n",
    "model.add(MaxPooling2D(pool_size = (2, 2), padding = 'same'))\n",
    "model.add(Dropout(0.3))\n",
    "\n",
    "model.add(Conv2D(filters = 64, kernel_size = (3, 3), activation = 'relu', padding = 'same'))\n",
    "model.add(BatchNormalization())\n",
    "model.add(Conv2D(filters = 64, kernel_size = (3, 3), activation = 'relu', padding = 'same'))\n",
    "model.add(BatchNormalization(axis = 3))\n",
    "model.add(MaxPooling2D(pool_size = (2, 2), padding = 'same'))\n",
    "model.add(Dropout(0.3))\n",
    "\n",
    "model.add(Conv2D(filters = 128, kernel_size = (3, 3), activation = 'relu', padding = 'same'))\n",
    "model.add(BatchNormalization())\n",
    "model.add(Conv2D(filters = 128, kernel_size = (3, 3), activation = 'relu', padding = 'same'))\n",
    "model.add(BatchNormalization(axis = 3))\n",
    "model.add(MaxPooling2D(pool_size = (2, 2), padding = 'same'))\n",
    "model.add(Dropout(0.5))\n",
    "\n",
    "model.add(Flatten())\n",
    "\n",
    "model.add(Dense(512))\n",
    "model.add(Activation('relu'))\n",
    "model.add(BatchNormalization())\n",
    "model.add(Dropout(0.5))\n",
    "\n",
    "\n",
    "model.add(Dense(128))\n",
    "model.add(Activation('relu'))\n",
    "model.add(Dropout(0.25))\n",
    "model.add(Dense(5))\n",
    "model.add(Activation('softmax'))\n"
   ]
  },
  {
   "cell_type": "code",
   "execution_count": 13,
   "id": "eb9cb473",
   "metadata": {},
   "outputs": [
    {
     "name": "stdout",
     "output_type": "stream",
     "text": [
      "Model: \"sequential\"\n",
      "_________________________________________________________________\n",
      " Layer (type)                Output Shape              Param #   \n",
      "=================================================================\n",
      " conv2d (Conv2D)             (None, 173, 173, 32)      896       \n",
      "                                                                 \n",
      " batch_normalization (BatchN  (None, 173, 173, 32)     128       \n",
      " ormalization)                                                   \n",
      "                                                                 \n",
      " conv2d_1 (Conv2D)           (None, 173, 173, 32)      9248      \n",
      "                                                                 \n",
      " batch_normalization_1 (Batc  (None, 173, 173, 32)     128       \n",
      " hNormalization)                                                 \n",
      "                                                                 \n",
      " max_pooling2d (MaxPooling2D  (None, 87, 87, 32)       0         \n",
      " )                                                               \n",
      "                                                                 \n",
      " dropout (Dropout)           (None, 87, 87, 32)        0         \n",
      "                                                                 \n",
      " conv2d_2 (Conv2D)           (None, 87, 87, 64)        18496     \n",
      "                                                                 \n",
      " batch_normalization_2 (Batc  (None, 87, 87, 64)       256       \n",
      " hNormalization)                                                 \n",
      "                                                                 \n",
      " conv2d_3 (Conv2D)           (None, 87, 87, 64)        36928     \n",
      "                                                                 \n",
      " batch_normalization_3 (Batc  (None, 87, 87, 64)       256       \n",
      " hNormalization)                                                 \n",
      "                                                                 \n",
      " max_pooling2d_1 (MaxPooling  (None, 44, 44, 64)       0         \n",
      " 2D)                                                             \n",
      "                                                                 \n",
      " dropout_1 (Dropout)         (None, 44, 44, 64)        0         \n",
      "                                                                 \n",
      " conv2d_4 (Conv2D)           (None, 44, 44, 128)       73856     \n",
      "                                                                 \n",
      " batch_normalization_4 (Batc  (None, 44, 44, 128)      512       \n",
      " hNormalization)                                                 \n",
      "                                                                 \n",
      " conv2d_5 (Conv2D)           (None, 44, 44, 128)       147584    \n",
      "                                                                 \n",
      " batch_normalization_5 (Batc  (None, 44, 44, 128)      512       \n",
      " hNormalization)                                                 \n",
      "                                                                 \n",
      " max_pooling2d_2 (MaxPooling  (None, 22, 22, 128)      0         \n",
      " 2D)                                                             \n",
      "                                                                 \n",
      " dropout_2 (Dropout)         (None, 22, 22, 128)       0         \n",
      "                                                                 \n",
      " flatten (Flatten)           (None, 61952)             0         \n",
      "                                                                 \n",
      " dense (Dense)               (None, 512)               31719936  \n",
      "                                                                 \n",
      " activation (Activation)     (None, 512)               0         \n",
      "                                                                 \n",
      " batch_normalization_6 (Batc  (None, 512)              2048      \n",
      " hNormalization)                                                 \n",
      "                                                                 \n",
      " dropout_3 (Dropout)         (None, 512)               0         \n",
      "                                                                 \n",
      " dense_1 (Dense)             (None, 128)               65664     \n",
      "                                                                 \n",
      " activation_1 (Activation)   (None, 128)               0         \n",
      "                                                                 \n",
      " dropout_4 (Dropout)         (None, 128)               0         \n",
      "                                                                 \n",
      " dense_2 (Dense)             (None, 5)                 645       \n",
      "                                                                 \n",
      " activation_2 (Activation)   (None, 5)                 0         \n",
      "                                                                 \n",
      "=================================================================\n",
      "Total params: 32,077,093\n",
      "Trainable params: 32,075,173\n",
      "Non-trainable params: 1,920\n",
      "_________________________________________________________________\n"
     ]
    }
   ],
   "source": [
    "model.compile(optimizer='adam', loss='categorical_crossentropy', metrics=['accuracy'])\n",
    "model.summary()"
   ]
  },
  {
   "cell_type": "code",
   "execution_count": 14,
   "id": "a64bb5c4",
   "metadata": {},
   "outputs": [],
   "source": [
    "models_dir = \"saved_models\"\n",
    "if not os.path.exists(models_dir):\n",
    "    os.makedirs(models_dir)\n",
    "\n",
    "checkpointer = ModelCheckpoint(filepath='saved_models/model_vanilla.hdf5', \n",
    "                               monitor='val_accuracy', mode='max',\n",
    "                               verbose=1, save_best_only=True)\n",
    "\n",
    "early_stopping = EarlyStopping(monitor='val_loss', mode='min', verbose=1, patience=3)\n",
    "reduce_lr = ReduceLROnPlateau(monitor='val_loss', factor=0.2,patience=2, min_lr=0.001)\n",
    "callbacks=[early_stopping, reduce_lr, checkpointer]"
   ]
  },
  {
   "cell_type": "code",
   "execution_count": 15,
   "id": "ea0f7d09",
   "metadata": {},
   "outputs": [
    {
     "name": "stdout",
     "output_type": "stream",
     "text": [
      "Epoch 1/40\n",
      "2/2 [==============================] - ETA: 0s - loss: 2.6834 - accuracy: 0.2514\n",
      "Epoch 1: val_accuracy improved from -inf to 0.34286, saving model to saved_models\\model_vanilla.hdf5\n",
      "2/2 [==============================] - 22s 16s/step - loss: 2.6834 - accuracy: 0.2514 - val_loss: 1.5606 - val_accuracy: 0.3429 - lr: 0.0010\n",
      "Epoch 2/40\n",
      "2/2 [==============================] - ETA: 0s - loss: 1.7791 - accuracy: 0.3600 \n",
      "Epoch 2: val_accuracy did not improve from 0.34286\n",
      "2/2 [==============================] - 19s 6s/step - loss: 1.7791 - accuracy: 0.3600 - val_loss: 1.6238 - val_accuracy: 0.2000 - lr: 0.0010\n",
      "Epoch 3/40\n",
      "2/2 [==============================] - ETA: 0s - loss: 1.1549 - accuracy: 0.5143\n",
      "Epoch 3: val_accuracy did not improve from 0.34286\n",
      "2/2 [==============================] - 19s 13s/step - loss: 1.1549 - accuracy: 0.5143 - val_loss: 1.8868 - val_accuracy: 0.2286 - lr: 0.0010\n",
      "Epoch 4/40\n",
      "2/2 [==============================] - ETA: 0s - loss: 1.1316 - accuracy: 0.5600 \n",
      "Epoch 4: val_accuracy did not improve from 0.34286\n",
      "2/2 [==============================] - 19s 6s/step - loss: 1.1316 - accuracy: 0.5600 - val_loss: 2.2008 - val_accuracy: 0.2000 - lr: 0.0010\n",
      "Epoch 4: early stopping\n"
     ]
    }
   ],
   "source": [
    "fitting = model.fit(ds_train, epochs = 40,  \n",
    "                    validation_data = ds_validate,\n",
    "                    callbacks = callbacks) "
   ]
  },
  {
   "cell_type": "code",
   "execution_count": 17,
   "id": "2ef32c63",
   "metadata": {},
   "outputs": [
    {
     "name": "stdout",
     "output_type": "stream",
     "text": [
      "1/1 [==============================] - 1s 998ms/step - loss: 2.2059 - accuracy: 0.2000\n",
      "Model Vanilla Loss: 2.2058796882629395, Accuracy: 20.000000298023224\n"
     ]
    }
   ],
   "source": [
    "score1 = model.evaluate(ds_test, verbose=1)\n",
    "print(f'Model Vanilla Loss: {score1[0]}, Accuracy: {score1[1]*100}')"
   ]
  },
  {
   "cell_type": "code",
   "execution_count": 18,
   "id": "ca93712c",
   "metadata": {},
   "outputs": [
    {
     "name": "stdout",
     "output_type": "stream",
     "text": [
      "1/1 [==============================] - 1s 1s/step\n"
     ]
    },
    {
     "data": {
      "image/png": "[encoded data removed]",
      "text/plain": [
       "<Figure size 864x864 with 2 Axes>"
      ]
     },
     "metadata": {},
     "output_type": "display_data"
    }
   ],
   "source": [
    "Y_pred = model.predict(ds_test)\n",
    "y_pred = np.argmax(Y_pred, axis=1)\n",
    "confusion_mtx = confusion_matrix(y_pred, ds_test.classes)\n",
    "f,ax = plt.subplots(figsize=(12, 12))\n",
    "sns.heatmap(confusion_mtx, annot=True, \n",
    "            linewidths=0.01,\n",
    "            linecolor=\"white\", \n",
    "            fmt= '.1f',ax=ax,)\n",
    "sns.color_palette(\"rocket\", as_cmap=True)\n",
    "\n",
    "plt.xlabel(\"Predicted Label\")\n",
    "plt.ylabel(\"True Label\")\n",
    "ax.xaxis.set_ticklabels(ds_test.class_indices)\n",
    "ax.yaxis.set_ticklabels(rice_classes)\n",
    "plt.title(\"Confusion Matrix\")\n",
    "plt.show()"
   ]
  },
  {
   "cell_type": "code",
   "execution_count": null,
   "id": "9e7c5718",
   "metadata": {},
   "outputs": [],
   "source": []
  }
 ],
 "metadata": {
  "kernelspec": {
   "display_name": "Python 3 (ipykernel)",
   "language": "python",
   "name": "python3"
  },
  "language_info": {
   "codemirror_mode": {
    "name": "ipython",
    "version": 3
   },
   "file_extension": ".py",
   "mimetype": "text/x-python",
   "name": "python",
   "nbconvert_exporter": "python",
   "pygments_lexer": "ipython3",
   "version": "3.9.7"
  }
 },
 "nbformat": 4,
 "nbformat_minor": 5
}
